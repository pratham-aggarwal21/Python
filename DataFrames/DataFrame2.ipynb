{
 "cells": [
  {
   "cell_type": "code",
   "execution_count": 16,
   "id": "2ac686e9",
   "metadata": {},
   "outputs": [],
   "source": [
    "import pandas as pd\n",
    "import numpy as np"
   ]
  },
  {
   "cell_type": "code",
   "execution_count": 17,
   "id": "fe762dab",
   "metadata": {},
   "outputs": [],
   "source": [
    "s1 = {'Quarter 1': {'Milk' : 100, 'Beverages' : 90, 'Snack Items' : 40, 'Icecreams' : 50, 'Bakery Items' : 20 },\n",
    "               'Quarter 2': {'Milk' : 10, 'Beverages' : 104, 'Snack Items' : 50, 'Icecreams' : 70, 'Bakery Items' : 30 },\n",
    "               'Quarter 3': {'Milk' : 80, 'Beverages' : 20, 'Snack Items' : 30, 'Icecreams' : 60, 'Bakery Items' : 70 },\n",
    "               'Quarter 4': {'Milk' : 100, 'Beverages' : 40, 'Snack Items' : 10, 'Icecreams' : 90, 'Bakery Items' : 100 }}"
   ]
  },
  {
   "cell_type": "code",
   "execution_count": 18,
   "id": "24687f64",
   "metadata": {},
   "outputs": [],
   "source": [
    "Sales15 = pd.DataFrame(s1)"
   ]
  },
  {
   "cell_type": "code",
   "execution_count": 19,
   "id": "214ce2e8",
   "metadata": {},
   "outputs": [
    {
     "data": {
      "text/html": [
       "<div>\n",
       "<style scoped>\n",
       "    .dataframe tbody tr th:only-of-type {\n",
       "        vertical-align: middle;\n",
       "    }\n",
       "\n",
       "    .dataframe tbody tr th {\n",
       "        vertical-align: top;\n",
       "    }\n",
       "\n",
       "    .dataframe thead th {\n",
       "        text-align: right;\n",
       "    }\n",
       "</style>\n",
       "<table border=\"1\" class=\"dataframe\">\n",
       "  <thead>\n",
       "    <tr style=\"text-align: right;\">\n",
       "      <th></th>\n",
       "      <th>Quarter 1</th>\n",
       "      <th>Quarter 2</th>\n",
       "      <th>Quarter 3</th>\n",
       "      <th>Quarter 4</th>\n",
       "    </tr>\n",
       "  </thead>\n",
       "  <tbody>\n",
       "    <tr>\n",
       "      <th>Milk</th>\n",
       "      <td>100</td>\n",
       "      <td>10</td>\n",
       "      <td>80</td>\n",
       "      <td>100</td>\n",
       "    </tr>\n",
       "    <tr>\n",
       "      <th>Beverages</th>\n",
       "      <td>90</td>\n",
       "      <td>104</td>\n",
       "      <td>20</td>\n",
       "      <td>40</td>\n",
       "    </tr>\n",
       "    <tr>\n",
       "      <th>Snack Items</th>\n",
       "      <td>40</td>\n",
       "      <td>50</td>\n",
       "      <td>30</td>\n",
       "      <td>10</td>\n",
       "    </tr>\n",
       "    <tr>\n",
       "      <th>Icecreams</th>\n",
       "      <td>50</td>\n",
       "      <td>70</td>\n",
       "      <td>60</td>\n",
       "      <td>90</td>\n",
       "    </tr>\n",
       "    <tr>\n",
       "      <th>Bakery Items</th>\n",
       "      <td>20</td>\n",
       "      <td>30</td>\n",
       "      <td>70</td>\n",
       "      <td>100</td>\n",
       "    </tr>\n",
       "  </tbody>\n",
       "</table>\n",
       "</div>"
      ],
      "text/plain": [
       "              Quarter 1  Quarter 2  Quarter 3  Quarter 4\n",
       "Milk                100         10         80        100\n",
       "Beverages            90        104         20         40\n",
       "Snack Items          40         50         30         10\n",
       "Icecreams            50         70         60         90\n",
       "Bakery Items         20         30         70        100"
      ]
     },
     "execution_count": 19,
     "metadata": {},
     "output_type": "execute_result"
    }
   ],
   "source": [
    "Sales15"
   ]
  },
  {
   "cell_type": "code",
   "execution_count": 27,
   "id": "34dbf2e5",
   "metadata": {},
   "outputs": [
    {
     "data": {
      "text/plain": [
       "Quarter 1         Milk\n",
       "Quarter 2    Beverages\n",
       "Quarter 3         Milk\n",
       "Quarter 4         Milk\n",
       "dtype: object"
      ]
     },
     "execution_count": 27,
     "metadata": {},
     "output_type": "execute_result"
    }
   ],
   "source": [
    "Sales15.idxmax()"
   ]
  },
  {
   "cell_type": "code",
   "execution_count": 33,
   "id": "97201fc6",
   "metadata": {},
   "outputs": [
    {
     "data": {
      "text/plain": [
       "Milk            100\n",
       "Beverages       104\n",
       "Snack Items      50\n",
       "Icecreams        90\n",
       "Bakery Items    100\n",
       "dtype: int64"
      ]
     },
     "execution_count": 33,
     "metadata": {},
     "output_type": "execute_result"
    }
   ],
   "source": [
    "Sales15.max(axis=1)"
   ]
  },
  {
   "cell_type": "code",
   "execution_count": 37,
   "id": "63f809b2",
   "metadata": {},
   "outputs": [
    {
     "data": {
      "text/plain": [
       "Milk            72.5\n",
       "Beverages       63.5\n",
       "Snack Items     32.5\n",
       "Icecreams       67.5\n",
       "Bakery Items    55.0\n",
       "dtype: float64"
      ]
     },
     "execution_count": 37,
     "metadata": {},
     "output_type": "execute_result"
    }
   ],
   "source": [
    "Sales15.mean(axis=1)"
   ]
  },
  {
   "cell_type": "code",
   "execution_count": 28,
   "id": "48bab102",
   "metadata": {},
   "outputs": [],
   "source": [
    "s2 = {'Quarter 1': {'Milk' : 200, 'Beverages' : 290, 'Snack Items' : 240, 'Icecreams' : 250, 'Bakery Items' : 220 },\n",
    "               'Quarter 2': {'Milk' : 210, 'Beverages' : 214, 'Snack Items' : 250, 'Icecreams' : 270, 'Bakery Items' : 230 },\n",
    "               'Quarter 3': {'Milk' : 280, 'Beverages' : 220, 'Snack Items' : 230, 'Icecreams' : 260, 'Bakery Items' : 270 },\n",
    "               'Quarter 4': {'Milk' : 200, 'Beverages' : 240, 'Snack Items' : 210, 'Icecreams' : 290, 'Bakery Items' : 200 }}"
   ]
  },
  {
   "cell_type": "code",
   "execution_count": 29,
   "id": "ee9746b4",
   "metadata": {},
   "outputs": [],
   "source": [
    "Sales16 = pd.DataFrame(s2)"
   ]
  },
  {
   "cell_type": "code",
   "execution_count": 30,
   "id": "b0f0841e",
   "metadata": {},
   "outputs": [
    {
     "data": {
      "text/html": [
       "<div>\n",
       "<style scoped>\n",
       "    .dataframe tbody tr th:only-of-type {\n",
       "        vertical-align: middle;\n",
       "    }\n",
       "\n",
       "    .dataframe tbody tr th {\n",
       "        vertical-align: top;\n",
       "    }\n",
       "\n",
       "    .dataframe thead th {\n",
       "        text-align: right;\n",
       "    }\n",
       "</style>\n",
       "<table border=\"1\" class=\"dataframe\">\n",
       "  <thead>\n",
       "    <tr style=\"text-align: right;\">\n",
       "      <th></th>\n",
       "      <th>Quarter 1</th>\n",
       "      <th>Quarter 2</th>\n",
       "      <th>Quarter 3</th>\n",
       "      <th>Quarter 4</th>\n",
       "    </tr>\n",
       "  </thead>\n",
       "  <tbody>\n",
       "    <tr>\n",
       "      <th>Milk</th>\n",
       "      <td>200</td>\n",
       "      <td>210</td>\n",
       "      <td>280</td>\n",
       "      <td>200</td>\n",
       "    </tr>\n",
       "    <tr>\n",
       "      <th>Beverages</th>\n",
       "      <td>290</td>\n",
       "      <td>214</td>\n",
       "      <td>220</td>\n",
       "      <td>240</td>\n",
       "    </tr>\n",
       "    <tr>\n",
       "      <th>Snack Items</th>\n",
       "      <td>240</td>\n",
       "      <td>250</td>\n",
       "      <td>230</td>\n",
       "      <td>210</td>\n",
       "    </tr>\n",
       "    <tr>\n",
       "      <th>Icecreams</th>\n",
       "      <td>250</td>\n",
       "      <td>270</td>\n",
       "      <td>260</td>\n",
       "      <td>290</td>\n",
       "    </tr>\n",
       "    <tr>\n",
       "      <th>Bakery Items</th>\n",
       "      <td>220</td>\n",
       "      <td>230</td>\n",
       "      <td>270</td>\n",
       "      <td>200</td>\n",
       "    </tr>\n",
       "  </tbody>\n",
       "</table>\n",
       "</div>"
      ],
      "text/plain": [
       "              Quarter 1  Quarter 2  Quarter 3  Quarter 4\n",
       "Milk                200        210        280        200\n",
       "Beverages           290        214        220        240\n",
       "Snack Items         240        250        230        210\n",
       "Icecreams           250        270        260        290\n",
       "Bakery Items        220        230        270        200"
      ]
     },
     "execution_count": 30,
     "metadata": {},
     "output_type": "execute_result"
    }
   ],
   "source": [
    "Sales16"
   ]
  },
  {
   "cell_type": "code",
   "execution_count": 31,
   "id": "b1e0d005",
   "metadata": {},
   "outputs": [
    {
     "data": {
      "text/plain": [
       "Quarter 1    Beverages\n",
       "Quarter 2    Icecreams\n",
       "Quarter 3         Milk\n",
       "Quarter 4    Icecreams\n",
       "dtype: object"
      ]
     },
     "execution_count": 31,
     "metadata": {},
     "output_type": "execute_result"
    }
   ],
   "source": [
    "Sales16.idxmax()"
   ]
  },
  {
   "cell_type": "code",
   "execution_count": 34,
   "id": "b0af0cbe",
   "metadata": {},
   "outputs": [
    {
     "data": {
      "text/plain": [
       "Milk            280\n",
       "Beverages       290\n",
       "Snack Items     250\n",
       "Icecreams       290\n",
       "Bakery Items    270\n",
       "dtype: int64"
      ]
     },
     "execution_count": 34,
     "metadata": {},
     "output_type": "execute_result"
    }
   ],
   "source": [
    "Sales16.max(axis=1)"
   ]
  },
  {
   "cell_type": "code",
   "execution_count": 38,
   "id": "69f8c93c",
   "metadata": {},
   "outputs": [
    {
     "data": {
      "text/plain": [
       "Milk            222.5\n",
       "Beverages       241.0\n",
       "Snack Items     232.5\n",
       "Icecreams       267.5\n",
       "Bakery Items    230.0\n",
       "dtype: float64"
      ]
     },
     "execution_count": 38,
     "metadata": {},
     "output_type": "execute_result"
    }
   ],
   "source": [
    "Sales16.mean(axis=1)"
   ]
  },
  {
   "cell_type": "code",
   "execution_count": 23,
   "id": "4e92ab77",
   "metadata": {},
   "outputs": [],
   "source": [
    "s3 = {'Quarter 1': {'Milk' : 300, 'Beverages' : 390, 'Snack Items' : 330, 'Icecreams' : 350, 'Bakery Items' : 320 },\n",
    "               'Quarter 2': {'Milk' : 310, 'Beverages' : 314, 'Snack Items' : 350, 'Icecreams' : 370, 'Bakery Items' : 330 },\n",
    "               'Quarter 3': {'Milk' : 380, 'Beverages' : 320, 'Snack Items' : 330, 'Icecreams' : 360, 'Bakery Items' : 270 },\n",
    "               'Quarter 4': {'Milk' : 300, 'Beverages' : 340, 'Snack Items' : 310, 'Icecreams' : 390, 'Bakery Items' : 300 }}"
   ]
  },
  {
   "cell_type": "code",
   "execution_count": 24,
   "id": "a713c883",
   "metadata": {},
   "outputs": [],
   "source": [
    "Sales17 = pd.DataFrame(s3)"
   ]
  },
  {
   "cell_type": "code",
   "execution_count": 25,
   "id": "382e62e2",
   "metadata": {},
   "outputs": [
    {
     "data": {
      "text/html": [
       "<div>\n",
       "<style scoped>\n",
       "    .dataframe tbody tr th:only-of-type {\n",
       "        vertical-align: middle;\n",
       "    }\n",
       "\n",
       "    .dataframe tbody tr th {\n",
       "        vertical-align: top;\n",
       "    }\n",
       "\n",
       "    .dataframe thead th {\n",
       "        text-align: right;\n",
       "    }\n",
       "</style>\n",
       "<table border=\"1\" class=\"dataframe\">\n",
       "  <thead>\n",
       "    <tr style=\"text-align: right;\">\n",
       "      <th></th>\n",
       "      <th>Quarter 1</th>\n",
       "      <th>Quarter 2</th>\n",
       "      <th>Quarter 3</th>\n",
       "      <th>Quarter 4</th>\n",
       "    </tr>\n",
       "  </thead>\n",
       "  <tbody>\n",
       "    <tr>\n",
       "      <th>Milk</th>\n",
       "      <td>300</td>\n",
       "      <td>310</td>\n",
       "      <td>380</td>\n",
       "      <td>300</td>\n",
       "    </tr>\n",
       "    <tr>\n",
       "      <th>Beverages</th>\n",
       "      <td>390</td>\n",
       "      <td>314</td>\n",
       "      <td>320</td>\n",
       "      <td>340</td>\n",
       "    </tr>\n",
       "    <tr>\n",
       "      <th>Snack Items</th>\n",
       "      <td>330</td>\n",
       "      <td>350</td>\n",
       "      <td>330</td>\n",
       "      <td>310</td>\n",
       "    </tr>\n",
       "    <tr>\n",
       "      <th>Icecreams</th>\n",
       "      <td>350</td>\n",
       "      <td>370</td>\n",
       "      <td>360</td>\n",
       "      <td>390</td>\n",
       "    </tr>\n",
       "    <tr>\n",
       "      <th>Bakery Items</th>\n",
       "      <td>320</td>\n",
       "      <td>330</td>\n",
       "      <td>270</td>\n",
       "      <td>300</td>\n",
       "    </tr>\n",
       "  </tbody>\n",
       "</table>\n",
       "</div>"
      ],
      "text/plain": [
       "              Quarter 1  Quarter 2  Quarter 3  Quarter 4\n",
       "Milk                300        310        380        300\n",
       "Beverages           390        314        320        340\n",
       "Snack Items         330        350        330        310\n",
       "Icecreams           350        370        360        390\n",
       "Bakery Items        320        330        270        300"
      ]
     },
     "execution_count": 25,
     "metadata": {},
     "output_type": "execute_result"
    }
   ],
   "source": [
    "Sales17"
   ]
  },
  {
   "cell_type": "code",
   "execution_count": 32,
   "id": "e923d946",
   "metadata": {},
   "outputs": [
    {
     "data": {
      "text/plain": [
       "Quarter 1    Beverages\n",
       "Quarter 2    Icecreams\n",
       "Quarter 3         Milk\n",
       "Quarter 4    Icecreams\n",
       "dtype: object"
      ]
     },
     "execution_count": 32,
     "metadata": {},
     "output_type": "execute_result"
    }
   ],
   "source": [
    "Sales17.idxmax()"
   ]
  },
  {
   "cell_type": "code",
   "execution_count": 35,
   "id": "0fac4556",
   "metadata": {},
   "outputs": [
    {
     "data": {
      "text/plain": [
       "Milk            380\n",
       "Beverages       390\n",
       "Snack Items     350\n",
       "Icecreams       390\n",
       "Bakery Items    330\n",
       "dtype: int64"
      ]
     },
     "execution_count": 35,
     "metadata": {},
     "output_type": "execute_result"
    }
   ],
   "source": [
    "Sales17.max(axis=1)"
   ]
  },
  {
   "cell_type": "code",
   "execution_count": 39,
   "id": "092f9dd4",
   "metadata": {},
   "outputs": [
    {
     "data": {
      "text/plain": [
       "Milk            322.5\n",
       "Beverages       341.0\n",
       "Snack Items     330.0\n",
       "Icecreams       367.5\n",
       "Bakery Items    305.0\n",
       "dtype: float64"
      ]
     },
     "execution_count": 39,
     "metadata": {},
     "output_type": "execute_result"
    }
   ],
   "source": [
    "Sales17.mean(axis=1)"
   ]
  },
  {
   "cell_type": "code",
   "execution_count": 58,
   "id": "0a0c0995",
   "metadata": {},
   "outputs": [],
   "source": [
    "SalesCombined = pd.concat([Sales15,Sales16,Sales17])"
   ]
  },
  {
   "cell_type": "code",
   "execution_count": 59,
   "id": "5ea964c9",
   "metadata": {},
   "outputs": [
    {
     "data": {
      "text/html": [
       "<div>\n",
       "<style scoped>\n",
       "    .dataframe tbody tr th:only-of-type {\n",
       "        vertical-align: middle;\n",
       "    }\n",
       "\n",
       "    .dataframe tbody tr th {\n",
       "        vertical-align: top;\n",
       "    }\n",
       "\n",
       "    .dataframe thead th {\n",
       "        text-align: right;\n",
       "    }\n",
       "</style>\n",
       "<table border=\"1\" class=\"dataframe\">\n",
       "  <thead>\n",
       "    <tr style=\"text-align: right;\">\n",
       "      <th></th>\n",
       "      <th>Quarter 1</th>\n",
       "      <th>Quarter 2</th>\n",
       "      <th>Quarter 3</th>\n",
       "      <th>Quarter 4</th>\n",
       "    </tr>\n",
       "  </thead>\n",
       "  <tbody>\n",
       "    <tr>\n",
       "      <th>Milk</th>\n",
       "      <td>100</td>\n",
       "      <td>10</td>\n",
       "      <td>80</td>\n",
       "      <td>100</td>\n",
       "    </tr>\n",
       "    <tr>\n",
       "      <th>Beverages</th>\n",
       "      <td>90</td>\n",
       "      <td>104</td>\n",
       "      <td>20</td>\n",
       "      <td>40</td>\n",
       "    </tr>\n",
       "    <tr>\n",
       "      <th>Snack Items</th>\n",
       "      <td>40</td>\n",
       "      <td>50</td>\n",
       "      <td>30</td>\n",
       "      <td>10</td>\n",
       "    </tr>\n",
       "    <tr>\n",
       "      <th>Icecreams</th>\n",
       "      <td>50</td>\n",
       "      <td>70</td>\n",
       "      <td>60</td>\n",
       "      <td>90</td>\n",
       "    </tr>\n",
       "    <tr>\n",
       "      <th>Bakery Items</th>\n",
       "      <td>20</td>\n",
       "      <td>30</td>\n",
       "      <td>70</td>\n",
       "      <td>100</td>\n",
       "    </tr>\n",
       "    <tr>\n",
       "      <th>Milk</th>\n",
       "      <td>200</td>\n",
       "      <td>210</td>\n",
       "      <td>280</td>\n",
       "      <td>200</td>\n",
       "    </tr>\n",
       "    <tr>\n",
       "      <th>Beverages</th>\n",
       "      <td>290</td>\n",
       "      <td>214</td>\n",
       "      <td>220</td>\n",
       "      <td>240</td>\n",
       "    </tr>\n",
       "    <tr>\n",
       "      <th>Snack Items</th>\n",
       "      <td>240</td>\n",
       "      <td>250</td>\n",
       "      <td>230</td>\n",
       "      <td>210</td>\n",
       "    </tr>\n",
       "    <tr>\n",
       "      <th>Icecreams</th>\n",
       "      <td>250</td>\n",
       "      <td>270</td>\n",
       "      <td>260</td>\n",
       "      <td>290</td>\n",
       "    </tr>\n",
       "    <tr>\n",
       "      <th>Bakery Items</th>\n",
       "      <td>220</td>\n",
       "      <td>230</td>\n",
       "      <td>270</td>\n",
       "      <td>200</td>\n",
       "    </tr>\n",
       "    <tr>\n",
       "      <th>Milk</th>\n",
       "      <td>300</td>\n",
       "      <td>310</td>\n",
       "      <td>380</td>\n",
       "      <td>300</td>\n",
       "    </tr>\n",
       "    <tr>\n",
       "      <th>Beverages</th>\n",
       "      <td>390</td>\n",
       "      <td>314</td>\n",
       "      <td>320</td>\n",
       "      <td>340</td>\n",
       "    </tr>\n",
       "    <tr>\n",
       "      <th>Snack Items</th>\n",
       "      <td>330</td>\n",
       "      <td>350</td>\n",
       "      <td>330</td>\n",
       "      <td>310</td>\n",
       "    </tr>\n",
       "    <tr>\n",
       "      <th>Icecreams</th>\n",
       "      <td>350</td>\n",
       "      <td>370</td>\n",
       "      <td>360</td>\n",
       "      <td>390</td>\n",
       "    </tr>\n",
       "    <tr>\n",
       "      <th>Bakery Items</th>\n",
       "      <td>320</td>\n",
       "      <td>330</td>\n",
       "      <td>270</td>\n",
       "      <td>300</td>\n",
       "    </tr>\n",
       "  </tbody>\n",
       "</table>\n",
       "</div>"
      ],
      "text/plain": [
       "              Quarter 1  Quarter 2  Quarter 3  Quarter 4\n",
       "Milk                100         10         80        100\n",
       "Beverages            90        104         20         40\n",
       "Snack Items          40         50         30         10\n",
       "Icecreams            50         70         60         90\n",
       "Bakery Items         20         30         70        100\n",
       "Milk                200        210        280        200\n",
       "Beverages           290        214        220        240\n",
       "Snack Items         240        250        230        210\n",
       "Icecreams           250        270        260        290\n",
       "Bakery Items        220        230        270        200\n",
       "Milk                300        310        380        300\n",
       "Beverages           390        314        320        340\n",
       "Snack Items         330        350        330        310\n",
       "Icecreams           350        370        360        390\n",
       "Bakery Items        320        330        270        300"
      ]
     },
     "execution_count": 59,
     "metadata": {},
     "output_type": "execute_result"
    }
   ],
   "source": [
    "SalesCombined"
   ]
  },
  {
   "cell_type": "code",
   "execution_count": 60,
   "id": "5d14b121",
   "metadata": {},
   "outputs": [
    {
     "data": {
      "text/plain": [
       "Milk             72.5\n",
       "Beverages        63.5\n",
       "Snack Items      32.5\n",
       "Icecreams        67.5\n",
       "Bakery Items     55.0\n",
       "Milk            222.5\n",
       "Beverages       241.0\n",
       "Snack Items     232.5\n",
       "Icecreams       267.5\n",
       "Bakery Items    230.0\n",
       "Milk            322.5\n",
       "Beverages       341.0\n",
       "Snack Items     330.0\n",
       "Icecreams       367.5\n",
       "Bakery Items    305.0\n",
       "dtype: float64"
      ]
     },
     "execution_count": 60,
     "metadata": {},
     "output_type": "execute_result"
    }
   ],
   "source": [
    "SalesCombined.mean(axis=1)"
   ]
  }
 ],
 "metadata": {
  "kernelspec": {
   "display_name": "Python 3 (ipykernel)",
   "language": "python",
   "name": "python3"
  },
  "language_info": {
   "codemirror_mode": {
    "name": "ipython",
    "version": 3
   },
   "file_extension": ".py",
   "mimetype": "text/x-python",
   "name": "python",
   "nbconvert_exporter": "python",
   "pygments_lexer": "ipython3",
   "version": "3.9.12"
  }
 },
 "nbformat": 4,
 "nbformat_minor": 5
}
