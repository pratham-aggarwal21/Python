{
 "cells": [
  {
   "cell_type": "code",
   "execution_count": 1,
   "id": "7e2f672a",
   "metadata": {},
   "outputs": [],
   "source": [
    "import csv\n",
    "import pandas as pd"
   ]
  },
  {
   "cell_type": "code",
   "execution_count": 12,
   "id": "3c53dcfe",
   "metadata": {},
   "outputs": [
    {
     "data": {
      "text/html": [
       "<div>\n",
       "<style scoped>\n",
       "    .dataframe tbody tr th:only-of-type {\n",
       "        vertical-align: middle;\n",
       "    }\n",
       "\n",
       "    .dataframe tbody tr th {\n",
       "        vertical-align: top;\n",
       "    }\n",
       "\n",
       "    .dataframe thead th {\n",
       "        text-align: right;\n",
       "    }\n",
       "</style>\n",
       "<table border=\"1\" class=\"dataframe\">\n",
       "  <thead>\n",
       "    <tr style=\"text-align: right;\">\n",
       "      <th></th>\n",
       "      <th>0</th>\n",
       "      <th>1</th>\n",
       "      <th>2</th>\n",
       "      <th>3</th>\n",
       "    </tr>\n",
       "  </thead>\n",
       "  <tbody>\n",
       "    <tr>\n",
       "      <th>0</th>\n",
       "      <td>Name</td>\n",
       "      <td>Class</td>\n",
       "      <td>Roll No</td>\n",
       "      <td>Marks</td>\n",
       "    </tr>\n",
       "    <tr>\n",
       "      <th>1</th>\n",
       "      <td>ABC</td>\n",
       "      <td>I</td>\n",
       "      <td>1</td>\n",
       "      <td>80</td>\n",
       "    </tr>\n",
       "    <tr>\n",
       "      <th>2</th>\n",
       "      <td>DEF</td>\n",
       "      <td>II</td>\n",
       "      <td>2</td>\n",
       "      <td>90</td>\n",
       "    </tr>\n",
       "    <tr>\n",
       "      <th>3</th>\n",
       "      <td>GHI</td>\n",
       "      <td>III</td>\n",
       "      <td>3</td>\n",
       "      <td>100</td>\n",
       "    </tr>\n",
       "    <tr>\n",
       "      <th>4</th>\n",
       "      <td>JKL</td>\n",
       "      <td>IV</td>\n",
       "      <td>4</td>\n",
       "      <td>60</td>\n",
       "    </tr>\n",
       "    <tr>\n",
       "      <th>5</th>\n",
       "      <td>MNO</td>\n",
       "      <td>V</td>\n",
       "      <td>5</td>\n",
       "      <td>70</td>\n",
       "    </tr>\n",
       "  </tbody>\n",
       "</table>\n",
       "</div>"
      ],
      "text/plain": [
       "      0      1        2      3\n",
       "0  Name  Class  Roll No  Marks\n",
       "1   ABC      I        1     80\n",
       "2   DEF     II        2     90\n",
       "3   GHI    III        3    100\n",
       "4   JKL     IV        4     60\n",
       "5   MNO      V        5     70"
      ]
     },
     "execution_count": 12,
     "metadata": {},
     "output_type": "execute_result"
    }
   ],
   "source": [
    "f = open(\"Book1.csv\",'r')\n",
    "row = csv.reader(f)\n",
    "d1 = pd.DataFrame(row)\n",
    "d1\n",
    "#for i in row:\n",
    "#    print(i)"
   ]
  },
  {
   "cell_type": "code",
   "execution_count": 13,
   "id": "ddcc66eb",
   "metadata": {},
   "outputs": [
    {
     "name": "stdout",
     "output_type": "stream",
     "text": [
      "<_csv.reader object at 0x000001EE94F65400>\n"
     ]
    }
   ],
   "source": [
    "print(row)"
   ]
  },
  {
   "cell_type": "code",
   "execution_count": 15,
   "id": "c0ae01fb",
   "metadata": {},
   "outputs": [
    {
     "name": "stdout",
     "output_type": "stream",
     "text": [
      "Name Roll No\n",
      "ABC 1\n",
      "DEF 2\n",
      "GHI 3\n",
      "JKL 4\n",
      "MNO 5\n"
     ]
    }
   ],
   "source": [
    "f = open(\"Book1.csv\",'r')\n",
    "row = csv.reader(f)\n",
    "for i in row:\n",
    "    print(i[0],i[2])"
   ]
  },
  {
   "cell_type": "code",
   "execution_count": 20,
   "id": "7f48c49a",
   "metadata": {},
   "outputs": [
    {
     "name": "stdout",
     "output_type": "stream",
     "text": [
      "ABC 1\n",
      "DEF 2\n",
      "GHI 3\n",
      "JKL 4\n",
      "MNO 5\n"
     ]
    }
   ],
   "source": [
    "f = open(\"Book1.csv\",'r')\n",
    "row = csv.reader(f)\n",
    "next(row)\n",
    "for i in row:\n",
    "  #  print(i)\n",
    "    print(i[0],i[2])"
   ]
  },
  {
   "cell_type": "code",
   "execution_count": null,
   "id": "9553844e",
   "metadata": {},
   "outputs": [],
   "source": []
  },
  {
   "cell_type": "code",
   "execution_count": null,
   "id": "8d92c351",
   "metadata": {},
   "outputs": [],
   "source": []
  },
  {
   "cell_type": "code",
   "execution_count": 21,
   "id": "8eda65bc",
   "metadata": {},
   "outputs": [
    {
     "name": "stdout",
     "output_type": "stream",
     "text": [
      "['Name|Class|Roll No|Marks']\n",
      "['ABC|I|1|80']\n",
      "['DEF|II|2|90']\n",
      "['GHI|III|3|100']\n",
      "['JKL|IV|4|60']\n",
      "['MNO|V|5|70']\n"
     ]
    }
   ],
   "source": [
    "f = open(\"Book2.csv\",'r')\n",
    "row = csv.reader(f)\n",
    "for i in row:\n",
    "    print(i)"
   ]
  },
  {
   "cell_type": "code",
   "execution_count": 22,
   "id": "26da45a7",
   "metadata": {},
   "outputs": [
    {
     "name": "stdout",
     "output_type": "stream",
     "text": [
      "['Name', 'Class', 'Roll No', 'Marks']\n",
      "['ABC', 'I', '1', '80']\n",
      "['DEF', 'II', '2', '90']\n",
      "['GHI', 'III', '3', '100']\n",
      "['JKL', 'IV', '4', '60']\n",
      "['MNO', 'V', '5', '70']\n"
     ]
    }
   ],
   "source": [
    "f = open(\"Book2.csv\",'r')\n",
    "row = csv.reader(f,delimiter='|')\n",
    "for i in row:\n",
    "    print(i)"
   ]
  },
  {
   "cell_type": "code",
   "execution_count": null,
   "id": "31095a33",
   "metadata": {},
   "outputs": [],
   "source": []
  },
  {
   "cell_type": "code",
   "execution_count": null,
   "id": "d635b414",
   "metadata": {},
   "outputs": [],
   "source": []
  },
  {
   "cell_type": "code",
   "execution_count": null,
   "id": "38e297ec",
   "metadata": {},
   "outputs": [],
   "source": []
  },
  {
   "cell_type": "code",
   "execution_count": 26,
   "id": "43674e90",
   "metadata": {},
   "outputs": [],
   "source": [
    "f = open(\"Book3.csv\",'w')\n",
    "wr = csv.writer(f)\n",
    "wr.writerow(['Name','Class','Roll NO'])\n",
    "wr.writerow(['ABC','I',1])\n",
    "f.close()"
   ]
  },
  {
   "cell_type": "code",
   "execution_count": 28,
   "id": "9eab21fa",
   "metadata": {},
   "outputs": [],
   "source": [
    "f = open(\"Book4.csv\",'w')\n",
    "fields = ['Name','Class','Roll no']\n",
    "rows = [['ABC','I',80],['DEF','II',90],['GHI','III',100]]\n",
    "wr = csv.writer(f)\n",
    "wr.writerow(fields)\n",
    "wr.writerows(rows)\n",
    "f.close()"
   ]
  },
  {
   "cell_type": "code",
   "execution_count": null,
   "id": "1bf5ab0e",
   "metadata": {},
   "outputs": [],
   "source": []
  },
  {
   "cell_type": "code",
   "execution_count": null,
   "id": "05d01c39",
   "metadata": {},
   "outputs": [],
   "source": []
  },
  {
   "cell_type": "code",
   "execution_count": null,
   "id": "23b7710b",
   "metadata": {},
   "outputs": [],
   "source": []
  },
  {
   "cell_type": "code",
   "execution_count": 27,
   "id": "5f203356",
   "metadata": {},
   "outputs": [],
   "source": [
    "f = open(\"Book5.csv\",'w')\n",
    "fields = ['Name','Class','Roll no']\n",
    "rows = [['ABC','I',80],['DEF','II',90],['GHI','III',100],['JKL','IV',70]]\n",
    "wr = csv.writer(f)\n",
    "wr.writerow(fields)\n",
    "wr.writerows(rows)\n",
    "f.close()"
   ]
  },
  {
   "cell_type": "code",
   "execution_count": 28,
   "id": "ad88ddc5",
   "metadata": {},
   "outputs": [
    {
     "name": "stdout",
     "output_type": "stream",
     "text": [
      "Enter the name: ABC\n",
      "['ABC', 'I', '80']\n"
     ]
    }
   ],
   "source": [
    "str1 = input(\"Enter the name: \")\n",
    "f = open(\"Book5.csv\",'r')\n",
    "row = csv.reader(f)\n",
    "for i in row:\n",
    "    if len(i)>0:\n",
    "        if i[0]==str1:\n",
    "            print(i)"
   ]
  },
  {
   "cell_type": "code",
   "execution_count": 29,
   "id": "841eed95",
   "metadata": {},
   "outputs": [
    {
     "name": "stdout",
     "output_type": "stream",
     "text": [
      "Enter the name to delete : DEF\n"
     ]
    }
   ],
   "source": [
    "str1 = input(\"Enter the name to delete : \")\n",
    "f1 = open(\"Book5.csv\",'r')\n",
    "f2 = open(\"Temp.csv\",'w')\n",
    "row = csv.reader(f1)\n",
    "wr = csv.writer(f2)\n",
    "for i in row:\n",
    "    if len(i)>0:\n",
    "        if i[0]!=str1:\n",
    "            wr.writerow(i)\n",
    "f2.close()\n",
    "\n",
    "f1 = open(\"Book5.csv\",'w')\n",
    "f2 = open(\"Temp.csv\",'r')\n",
    "row = csv.reader(f2)\n",
    "wr = csv.writer(f1)\n",
    "for i in row:\n",
    "    wr.writerow(i)\n",
    "f1.close()"
   ]
  },
  {
   "cell_type": "code",
   "execution_count": 31,
   "id": "de49cba7",
   "metadata": {},
   "outputs": [
    {
     "name": "stdout",
     "output_type": "stream",
     "text": [
      "['Name', 'Class', 'Roll no']\n",
      "['ABC', 'I', '80']\n",
      "['GHI', 'III', '100']\n",
      "['JKL', 'IV', '70']\n"
     ]
    }
   ],
   "source": [
    "f = open(\"Book5.csv\",'r')\n",
    "r = csv.reader(f)\n",
    "for i in r:\n",
    "    if len(i)>0:\n",
    "        print(i)"
   ]
  }
 ],
 "metadata": {
  "kernelspec": {
   "display_name": "Python 3 (ipykernel)",
   "language": "python",
   "name": "python3"
  },
  "language_info": {
   "codemirror_mode": {
    "name": "ipython",
    "version": 3
   },
   "file_extension": ".py",
   "mimetype": "text/x-python",
   "name": "python",
   "nbconvert_exporter": "python",
   "pygments_lexer": "ipython3",
   "version": "3.9.12"
  }
 },
 "nbformat": 4,
 "nbformat_minor": 5
}
